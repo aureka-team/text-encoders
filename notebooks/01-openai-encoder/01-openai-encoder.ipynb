{
 "cells": [
  {
   "cell_type": "code",
   "execution_count": 1,
   "metadata": {},
   "outputs": [],
   "source": [
    "from text_encoders.encoders import OpenAIEncoder\n",
    "from text_encoders.weaviate_cache import WeaviateCache"
   ]
  },
  {
   "cell_type": "code",
   "execution_count": null,
   "metadata": {},
   "outputs": [],
   "source": [
    "weaviate_cache = WeaviateCache()\n",
    "openai_encoder = OpenAIEncoder(weaviate_cache=weaviate_cache)"
   ]
  },
  {
   "cell_type": "code",
   "execution_count": 3,
   "metadata": {},
   "outputs": [],
   "source": [
    "# collection = weaviate_cache.weaviate_client.collections.get(\"WeaviateCache\")\n",
    "# list(collection.iterator())[:5]"
   ]
  },
  {
   "cell_type": "code",
   "execution_count": null,
   "metadata": {},
   "outputs": [],
   "source": [
    "n_texts = 1024 * 1\n",
    "\n",
    "base_text = \"This is the text example number {idx}\"\n",
    "texts = [base_text.format(idx=idx) for idx in range(1, n_texts + 1)]\n",
    "\n",
    "print(len(texts))\n",
    "texts[:5]"
   ]
  },
  {
   "cell_type": "code",
   "execution_count": 5,
   "metadata": {},
   "outputs": [],
   "source": [
    "# vectors = openai_encoder.batch_encode(texts=texts)\n",
    "# vectors.shape"
   ]
  },
  {
   "cell_type": "code",
   "execution_count": null,
   "metadata": {},
   "outputs": [],
   "source": [
    "vectors = await openai_encoder.async_batch_encode(\n",
    "    # texts=texts\n",
    "    texts=texts + [\"This is the last example!\"]\n",
    ")\n",
    "\n",
    "vectors.shape"
   ]
  },
  {
   "cell_type": "code",
   "execution_count": 7,
   "metadata": {},
   "outputs": [],
   "source": [
    "# weaviate_cache._clear_cache()"
   ]
  },
  {
   "cell_type": "code",
   "execution_count": null,
   "metadata": {},
   "outputs": [],
   "source": []
  }
 ],
 "metadata": {
  "kernelspec": {
   "display_name": "Python 3",
   "language": "python",
   "name": "python3"
  },
  "language_info": {
   "codemirror_mode": {
    "name": "ipython",
    "version": 3
   },
   "file_extension": ".py",
   "mimetype": "text/x-python",
   "name": "python",
   "nbconvert_exporter": "python",
   "pygments_lexer": "ipython3",
   "version": "3.12.3"
  }
 },
 "nbformat": 4,
 "nbformat_minor": 2
}
